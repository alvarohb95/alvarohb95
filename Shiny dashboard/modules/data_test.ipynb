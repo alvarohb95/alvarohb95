{
 "cells": [
  {
   "cell_type": "markdown",
   "metadata": {},
   "source": [
    "### Data check (same values for all cycles)"
   ]
  },
  {
   "cell_type": "code",
   "execution_count": 10,
   "metadata": {},
   "outputs": [
    {
     "name": "stdout",
     "output_type": "stream",
     "text": [
      "Merged table saved to 'merged_comparison.xlsx'\n"
     ]
    }
   ],
   "source": [
    "import pandas as pd\n",
    "\n",
    "# Step 1: Read the Excel files\n",
    "df1 = pd.read_excel(\"data/cycle_1_ICSM_analyse.xlsx\")\n",
    "df2 = pd.read_excel(\"data/cycle_2_ICSM_analyse.xlsx\")\n",
    "\n",
    "# Step 2: Apply the filter on the 'Sujet' column for both dataframes\n",
    "# Only rows where 'Sujet' equals 'Prix median' will be processed\n",
    "df1_filtered = df1[df1[\"Sujet\"] == \"Prix median\"]\n",
    "df2_filtered = df2[df2[\"Sujet\"] == \"Prix median\"]\n",
    "\n",
    "# Step 3: Extract unique combinations of the columns of interest\n",
    "# Adjust the column names as needed\n",
    "cols = ['question_variable_name']\n",
    "df1_unique = df1_filtered[cols].drop_duplicates()\n",
    "df2_unique = df2_filtered[cols].drop_duplicates()\n",
    "\n",
    "# Step 4: Merge the two sets using an outer join with an indicator column.\n",
    "merged_df = pd.merge(\n",
    "    df1_unique,\n",
    "    df2_unique,\n",
    "    on=cols,\n",
    "    how='outer',\n",
    "    indicator=True\n",
    ")\n",
    "\n",
    "# Map the merge indicator to more descriptive labels\n",
    "merged_df['_merge'] = merged_df['_merge'].map({\n",
    "    'both': 'Both files',\n",
    "    'left_only': 'Only cycle_1_ICSM_analyse',\n",
    "    'right_only': 'Only cycle_2_ICSM_analyse'\n",
    "})\n",
    "\n",
    "# Rename the indicator column to 'Source'\n",
    "merged_df = merged_df.rename(columns={'_merge': 'Source'})\n",
    "\n",
    "# Step 5: Save the merged table to an Excel file\n",
    "output_filename = \"merged_comparison.xlsx\"\n",
    "merged_df.to_excel(output_filename, index=False)\n",
    "\n",
    "print(f\"Merged table saved to '{output_filename}'\")\n",
    "\n",
    "\n"
   ]
  },
  {
   "cell_type": "markdown",
   "metadata": {},
   "source": [
    "### Changer le nom de valeurs"
   ]
  },
  {
   "cell_type": "code",
   "execution_count": 8,
   "metadata": {},
   "outputs": [
    {
     "name": "stdout",
     "output_type": "stream",
     "text": [
      "Modified file saved as 'data/cycle_1_ICSM_analyse_modified.xlsx'\n"
     ]
    }
   ],
   "source": [
    "import pandas as pd\n",
    "\n",
    "# Load the first Excel file\n",
    "df = pd.read_excel(\"data/cycle_1_ICSM_analyse.xlsx\")\n",
    "\n",
    "# Define the mapping for replacement in the 'Filtre' column\n",
    "replacements = {\n",
    "    \"departement\": \"Département\",\n",
    "    \"marketplace\": \"Marché\",\n",
    "    \"market_type\": \"Type de marché\"\n",
    "}\n",
    "\n",
    "# Replace the values in the 'Filtre' column using the mapping dictionary\n",
    "df[\"Filtre\"] = df[\"Filtre\"].replace(replacements)\n",
    "\n",
    "# Save the modified DataFrame to a new Excel file\n",
    "output_filename = \"data/cycle_1_ICSM_analyse_modified.xlsx\"\n",
    "df.to_excel(output_filename, index=False)\n",
    "\n",
    "print(f\"Modified file saved as '{output_filename}'\")\n"
   ]
  },
  {
   "cell_type": "code",
   "execution_count": 7,
   "metadata": {},
   "outputs": [
    {
     "name": "stdout",
     "output_type": "stream",
     "text": [
      "Modified file saved as 'data/cycle_1_ICSM_analyse.xlsx'\n"
     ]
    }
   ],
   "source": [
    "import pandas as pd\n",
    "\n",
    "# Load the first Excel file\n",
    "df = pd.read_excel(\"data/cycle_1_ICSM_analyse.xlsx\")\n",
    "\n",
    "# Define the mapping for replacement in the 'Filtre' column\n",
    "replacements = {\n",
    "    \"Ouest (ZMPaP)\": \"Ouest (ZMPAP)\"\n",
    "}\n",
    "\n",
    "# Replace the values in the 'Filtre' column using the mapping dictionary\n",
    "df[\"Disag\"] = df[\"Disag\"].replace(replacements)\n",
    "\n",
    "# Save the modified DataFrame to a new Excel file\n",
    "output_filename = \"data/cycle_1_ICSM_analyse.xlsx\"\n",
    "df.to_excel(output_filename, index=False)\n",
    "\n",
    "print(f\"Modified file saved as '{output_filename}'\")\n"
   ]
  }
 ],
 "metadata": {
  "kernelspec": {
   "display_name": "Python 3",
   "language": "python",
   "name": "python3"
  },
  "language_info": {
   "codemirror_mode": {
    "name": "ipython",
    "version": 3
   },
   "file_extension": ".py",
   "mimetype": "text/x-python",
   "name": "python",
   "nbconvert_exporter": "python",
   "pygments_lexer": "ipython3",
   "version": "3.12.6"
  }
 },
 "nbformat": 4,
 "nbformat_minor": 2
}
