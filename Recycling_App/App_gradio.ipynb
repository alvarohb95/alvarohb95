{
 "cells": [
  {
   "cell_type": "markdown",
   "id": "19f51b74",
   "metadata": {},
   "source": [
    "# Green Greta App"
   ]
  },
  {
   "cell_type": "markdown",
   "metadata": {},
   "source": [
    "In this notebook, I carry out the steps to create a recycling application that integrates two different models, on the one hand an image classification model (previously created in image_classification_model.ipynb) and a chatbot using a LLM+RAG."
   ]
  },
  {
   "cell_type": "code",
   "execution_count": 2,
   "id": "248d975b",
   "metadata": {},
   "outputs": [
    {
     "data": {
      "application/javascript": "(function(root) {\n  function now() {\n    return new Date();\n  }\n\n  var force = true;\n  var py_version = '3.3.3'.replace('rc', '-rc.').replace('.dev', '-dev.');\n  var reloading = false;\n  var Bokeh = root.Bokeh;\n\n  if (typeof (root._bokeh_timeout) === \"undefined\" || force) {\n    root._bokeh_timeout = Date.now() + 5000;\n    root._bokeh_failed_load = false;\n  }\n\n  function run_callbacks() {\n    try {\n      root._bokeh_onload_callbacks.forEach(function(callback) {\n        if (callback != null)\n          callback();\n      });\n    } finally {\n      delete root._bokeh_onload_callbacks;\n    }\n    console.debug(\"Bokeh: all callbacks have finished\");\n  }\n\n  function load_libs(css_urls, js_urls, js_modules, js_exports, callback) {\n    if (css_urls == null) css_urls = [];\n    if (js_urls == null) js_urls = [];\n    if (js_modules == null) js_modules = [];\n    if (js_exports == null) js_exports = {};\n\n    root._bokeh_onload_callbacks.push(callback);\n\n    if (root._bokeh_is_loading > 0) {\n      console.debug(\"Bokeh: BokehJS is being loaded, scheduling callback at\", now());\n      return null;\n    }\n    if (js_urls.length === 0 && js_modules.length === 0 && Object.keys(js_exports).length === 0) {\n      run_callbacks();\n      return null;\n    }\n    if (!reloading) {\n      console.debug(\"Bokeh: BokehJS not loaded, scheduling load and callback at\", now());\n    }\n\n    function on_load() {\n      root._bokeh_is_loading--;\n      if (root._bokeh_is_loading === 0) {\n        console.debug(\"Bokeh: all BokehJS libraries/stylesheets loaded\");\n        run_callbacks()\n      }\n    }\n    window._bokeh_on_load = on_load\n\n    function on_error() {\n      console.error(\"failed to load \" + url);\n    }\n\n    var skip = [];\n    if (window.requirejs) {\n      window.requirejs.config({'packages': {}, 'paths': {'jspanel': 'https://cdn.jsdelivr.net/npm/jspanel4@4.12.0/dist/jspanel', 'jspanel-modal': 'https://cdn.jsdelivr.net/npm/jspanel4@4.12.0/dist/extensions/modal/jspanel.modal', 'jspanel-tooltip': 'https://cdn.jsdelivr.net/npm/jspanel4@4.12.0/dist/extensions/tooltip/jspanel.tooltip', 'jspanel-hint': 'https://cdn.jsdelivr.net/npm/jspanel4@4.12.0/dist/extensions/hint/jspanel.hint', 'jspanel-layout': 'https://cdn.jsdelivr.net/npm/jspanel4@4.12.0/dist/extensions/layout/jspanel.layout', 'jspanel-contextmenu': 'https://cdn.jsdelivr.net/npm/jspanel4@4.12.0/dist/extensions/contextmenu/jspanel.contextmenu', 'jspanel-dock': 'https://cdn.jsdelivr.net/npm/jspanel4@4.12.0/dist/extensions/dock/jspanel.dock', 'gridstack': 'https://cdn.jsdelivr.net/npm/gridstack@7.2.3/dist/gridstack-all', 'notyf': 'https://cdn.jsdelivr.net/npm/notyf@3/notyf.min'}, 'shim': {'jspanel': {'exports': 'jsPanel'}, 'gridstack': {'exports': 'GridStack'}}});\n      require([\"jspanel\"], function(jsPanel) {\n\twindow.jsPanel = jsPanel\n\ton_load()\n      })\n      require([\"jspanel-modal\"], function() {\n\ton_load()\n      })\n      require([\"jspanel-tooltip\"], function() {\n\ton_load()\n      })\n      require([\"jspanel-hint\"], function() {\n\ton_load()\n      })\n      require([\"jspanel-layout\"], function() {\n\ton_load()\n      })\n      require([\"jspanel-contextmenu\"], function() {\n\ton_load()\n      })\n      require([\"jspanel-dock\"], function() {\n\ton_load()\n      })\n      require([\"gridstack\"], function(GridStack) {\n\twindow.GridStack = GridStack\n\ton_load()\n      })\n      require([\"notyf\"], function() {\n\ton_load()\n      })\n      root._bokeh_is_loading = css_urls.length + 9;\n    } else {\n      root._bokeh_is_loading = css_urls.length + js_urls.length + js_modules.length + Object.keys(js_exports).length;\n    }\n\n    var existing_stylesheets = []\n    var links = document.getElementsByTagName('link')\n    for (var i = 0; i < links.length; i++) {\n      var link = links[i]\n      if (link.href != null) {\n\texisting_stylesheets.push(link.href)\n      }\n    }\n    for (var i = 0; i < css_urls.length; i++) {\n      var url = css_urls[i];\n      if (existing_stylesheets.indexOf(url) !== -1) {\n\ton_load()\n\tcontinue;\n      }\n      const element = document.createElement(\"link\");\n      element.onload = on_load;\n      element.onerror = on_error;\n      element.rel = \"stylesheet\";\n      element.type = \"text/css\";\n      element.href = url;\n      console.debug(\"Bokeh: injecting link tag for BokehJS stylesheet: \", url);\n      document.body.appendChild(element);\n    }    if (((window['jsPanel'] !== undefined) && (!(window['jsPanel'] instanceof HTMLElement))) || window.requirejs) {\n      var urls = ['https://cdn.holoviz.org/panel/1.3.6/dist/bundled/floatpanel/jspanel4@4.12.0/dist/jspanel.js', 'https://cdn.holoviz.org/panel/1.3.6/dist/bundled/floatpanel/jspanel4@4.12.0/dist/extensions/modal/jspanel.modal.js', 'https://cdn.holoviz.org/panel/1.3.6/dist/bundled/floatpanel/jspanel4@4.12.0/dist/extensions/tooltip/jspanel.tooltip.js', 'https://cdn.holoviz.org/panel/1.3.6/dist/bundled/floatpanel/jspanel4@4.12.0/dist/extensions/hint/jspanel.hint.js', 'https://cdn.holoviz.org/panel/1.3.6/dist/bundled/floatpanel/jspanel4@4.12.0/dist/extensions/layout/jspanel.layout.js', 'https://cdn.holoviz.org/panel/1.3.6/dist/bundled/floatpanel/jspanel4@4.12.0/dist/extensions/contextmenu/jspanel.contextmenu.js', 'https://cdn.holoviz.org/panel/1.3.6/dist/bundled/floatpanel/jspanel4@4.12.0/dist/extensions/dock/jspanel.dock.js'];\n      for (var i = 0; i < urls.length; i++) {\n        skip.push(urls[i])\n      }\n    }    if (((window['GridStack'] !== undefined) && (!(window['GridStack'] instanceof HTMLElement))) || window.requirejs) {\n      var urls = ['https://cdn.holoviz.org/panel/1.3.6/dist/bundled/gridstack/gridstack@7.2.3/dist/gridstack-all.js'];\n      for (var i = 0; i < urls.length; i++) {\n        skip.push(urls[i])\n      }\n    }    if (((window['Notyf'] !== undefined) && (!(window['Notyf'] instanceof HTMLElement))) || window.requirejs) {\n      var urls = ['https://cdn.holoviz.org/panel/1.3.6/dist/bundled/notificationarea/notyf@3/notyf.min.js'];\n      for (var i = 0; i < urls.length; i++) {\n        skip.push(urls[i])\n      }\n    }    var existing_scripts = []\n    var scripts = document.getElementsByTagName('script')\n    for (var i = 0; i < scripts.length; i++) {\n      var script = scripts[i]\n      if (script.src != null) {\n\texisting_scripts.push(script.src)\n      }\n    }\n    for (var i = 0; i < js_urls.length; i++) {\n      var url = js_urls[i];\n      if (skip.indexOf(url) !== -1 || existing_scripts.indexOf(url) !== -1) {\n\tif (!window.requirejs) {\n\t  on_load();\n\t}\n\tcontinue;\n      }\n      var element = document.createElement('script');\n      element.onload = on_load;\n      element.onerror = on_error;\n      element.async = false;\n      element.src = url;\n      console.debug(\"Bokeh: injecting script tag for BokehJS library: \", url);\n      document.head.appendChild(element);\n    }\n    for (var i = 0; i < js_modules.length; i++) {\n      var url = js_modules[i];\n      if (skip.indexOf(url) !== -1 || existing_scripts.indexOf(url) !== -1) {\n\tif (!window.requirejs) {\n\t  on_load();\n\t}\n\tcontinue;\n      }\n      var element = document.createElement('script');\n      element.onload = on_load;\n      element.onerror = on_error;\n      element.async = false;\n      element.src = url;\n      element.type = \"module\";\n      console.debug(\"Bokeh: injecting script tag for BokehJS library: \", url);\n      document.head.appendChild(element);\n    }\n    for (const name in js_exports) {\n      var url = js_exports[name];\n      if (skip.indexOf(url) >= 0 || root[name] != null) {\n\tif (!window.requirejs) {\n\t  on_load();\n\t}\n\tcontinue;\n      }\n      var element = document.createElement('script');\n      element.onerror = on_error;\n      element.async = false;\n      element.type = \"module\";\n      console.debug(\"Bokeh: injecting script tag for BokehJS library: \", url);\n      element.textContent = `\n      import ${name} from \"${url}\"\n      window.${name} = ${name}\n      window._bokeh_on_load()\n      `\n      document.head.appendChild(element);\n    }\n    if (!js_urls.length && !js_modules.length) {\n      on_load()\n    }\n  };\n\n  function inject_raw_css(css) {\n    const element = document.createElement(\"style\");\n    element.appendChild(document.createTextNode(css));\n    document.body.appendChild(element);\n  }\n\n  var js_urls = [\"https://cdn.bokeh.org/bokeh/release/bokeh-3.3.3.min.js\", \"https://cdn.bokeh.org/bokeh/release/bokeh-gl-3.3.3.min.js\", \"https://cdn.bokeh.org/bokeh/release/bokeh-widgets-3.3.3.min.js\", \"https://cdn.bokeh.org/bokeh/release/bokeh-tables-3.3.3.min.js\", \"https://cdn.holoviz.org/panel/1.3.6/dist/panel.min.js\"];\n  var js_modules = [];\n  var js_exports = {};\n  var css_urls = [];\n  var inline_js = [    function(Bokeh) {\n      Bokeh.set_log_level(\"info\");\n    },\nfunction(Bokeh) {} // ensure no trailing comma for IE\n  ];\n\n  function run_inline_js() {\n    if ((root.Bokeh !== undefined) || (force === true)) {\n      for (var i = 0; i < inline_js.length; i++) {\n\ttry {\n          inline_js[i].call(root, root.Bokeh);\n\t} catch(e) {\n\t  if (!reloading) {\n\t    throw e;\n\t  }\n\t}\n      }\n      // Cache old bokeh versions\n      if (Bokeh != undefined && !reloading) {\n\tvar NewBokeh = root.Bokeh;\n\tif (Bokeh.versions === undefined) {\n\t  Bokeh.versions = new Map();\n\t}\n\tif (NewBokeh.version !== Bokeh.version) {\n\t  Bokeh.versions.set(NewBokeh.version, NewBokeh)\n\t}\n\troot.Bokeh = Bokeh;\n      }} else if (Date.now() < root._bokeh_timeout) {\n      setTimeout(run_inline_js, 100);\n    } else if (!root._bokeh_failed_load) {\n      console.log(\"Bokeh: BokehJS failed to load within specified timeout.\");\n      root._bokeh_failed_load = true;\n    }\n    root._bokeh_is_initializing = false\n  }\n\n  function load_or_wait() {\n    // Implement a backoff loop that tries to ensure we do not load multiple\n    // versions of Bokeh and its dependencies at the same time.\n    // In recent versions we use the root._bokeh_is_initializing flag\n    // to determine whether there is an ongoing attempt to initialize\n    // bokeh, however for backward compatibility we also try to ensure\n    // that we do not start loading a newer (Panel>=1.0 and Bokeh>3) version\n    // before older versions are fully initialized.\n    if (root._bokeh_is_initializing && Date.now() > root._bokeh_timeout) {\n      root._bokeh_is_initializing = false;\n      root._bokeh_onload_callbacks = undefined;\n      console.log(\"Bokeh: BokehJS was loaded multiple times but one version failed to initialize.\");\n      load_or_wait();\n    } else if (root._bokeh_is_initializing || (typeof root._bokeh_is_initializing === \"undefined\" && root._bokeh_onload_callbacks !== undefined)) {\n      setTimeout(load_or_wait, 100);\n    } else {\n      root._bokeh_is_initializing = true\n      root._bokeh_onload_callbacks = []\n      var bokeh_loaded = Bokeh != null && (Bokeh.version === py_version || (Bokeh.versions !== undefined && Bokeh.versions.has(py_version)));\n      if (!reloading && !bokeh_loaded) {\n\troot.Bokeh = undefined;\n      }\n      load_libs(css_urls, js_urls, js_modules, js_exports, function() {\n\tconsole.debug(\"Bokeh: BokehJS plotting callback run at\", now());\n\trun_inline_js();\n      });\n    }\n  }\n  // Give older versions of the autoload script a head-start to ensure\n  // they initialize before we start loading newer version.\n  setTimeout(load_or_wait, 100)\n}(window));",
      "application/vnd.holoviews_load.v0+json": ""
     },
     "metadata": {},
     "output_type": "display_data"
    },
    {
     "data": {
      "application/javascript": "\nif ((window.PyViz === undefined) || (window.PyViz instanceof HTMLElement)) {\n  window.PyViz = {comms: {}, comm_status:{}, kernels:{}, receivers: {}, plot_index: []}\n}\n\n\n    function JupyterCommManager() {\n    }\n\n    JupyterCommManager.prototype.register_target = function(plot_id, comm_id, msg_handler) {\n      if (window.comm_manager || ((window.Jupyter !== undefined) && (Jupyter.notebook.kernel != null))) {\n        var comm_manager = window.comm_manager || Jupyter.notebook.kernel.comm_manager;\n        comm_manager.register_target(comm_id, function(comm) {\n          comm.on_msg(msg_handler);\n        });\n      } else if ((plot_id in window.PyViz.kernels) && (window.PyViz.kernels[plot_id])) {\n        window.PyViz.kernels[plot_id].registerCommTarget(comm_id, function(comm) {\n          comm.onMsg = msg_handler;\n        });\n      } else if (typeof google != 'undefined' && google.colab.kernel != null) {\n        google.colab.kernel.comms.registerTarget(comm_id, (comm) => {\n          var messages = comm.messages[Symbol.asyncIterator]();\n          function processIteratorResult(result) {\n            var message = result.value;\n            console.log(message)\n            var content = {data: message.data, comm_id};\n            var buffers = []\n            for (var buffer of message.buffers || []) {\n              buffers.push(new DataView(buffer))\n            }\n            var metadata = message.metadata || {};\n            var msg = {content, buffers, metadata}\n            msg_handler(msg);\n            return messages.next().then(processIteratorResult);\n          }\n          return messages.next().then(processIteratorResult);\n        })\n      }\n    }\n\n    JupyterCommManager.prototype.get_client_comm = function(plot_id, comm_id, msg_handler) {\n      if (comm_id in window.PyViz.comms) {\n        return window.PyViz.comms[comm_id];\n      } else if (window.comm_manager || ((window.Jupyter !== undefined) && (Jupyter.notebook.kernel != null))) {\n        var comm_manager = window.comm_manager || Jupyter.notebook.kernel.comm_manager;\n        var comm = comm_manager.new_comm(comm_id, {}, {}, {}, comm_id);\n        if (msg_handler) {\n          comm.on_msg(msg_handler);\n        }\n      } else if ((plot_id in window.PyViz.kernels) && (window.PyViz.kernels[plot_id])) {\n        var comm = window.PyViz.kernels[plot_id].connectToComm(comm_id);\n        comm.open();\n        if (msg_handler) {\n          comm.onMsg = msg_handler;\n        }\n      } else if (typeof google != 'undefined' && google.colab.kernel != null) {\n        var comm_promise = google.colab.kernel.comms.open(comm_id)\n        comm_promise.then((comm) => {\n          window.PyViz.comms[comm_id] = comm;\n          if (msg_handler) {\n            var messages = comm.messages[Symbol.asyncIterator]();\n            function processIteratorResult(result) {\n              var message = result.value;\n              var content = {data: message.data};\n              var metadata = message.metadata || {comm_id};\n              var msg = {content, metadata}\n              msg_handler(msg);\n              return messages.next().then(processIteratorResult);\n            }\n            return messages.next().then(processIteratorResult);\n          }\n        }) \n        var sendClosure = (data, metadata, buffers, disposeOnDone) => {\n          return comm_promise.then((comm) => {\n            comm.send(data, metadata, buffers, disposeOnDone);\n          });\n        };\n        var comm = {\n          send: sendClosure\n        };\n      }\n      window.PyViz.comms[comm_id] = comm;\n      return comm;\n    }\n    window.PyViz.comm_manager = new JupyterCommManager();\n    \n\n\nvar JS_MIME_TYPE = 'application/javascript';\nvar HTML_MIME_TYPE = 'text/html';\nvar EXEC_MIME_TYPE = 'application/vnd.holoviews_exec.v0+json';\nvar CLASS_NAME = 'output';\n\n/**\n * Render data to the DOM node\n */\nfunction render(props, node) {\n  var div = document.createElement(\"div\");\n  var script = document.createElement(\"script\");\n  node.appendChild(div);\n  node.appendChild(script);\n}\n\n/**\n * Handle when a new output is added\n */\nfunction handle_add_output(event, handle) {\n  var output_area = handle.output_area;\n  var output = handle.output;\n  if ((output.data == undefined) || (!output.data.hasOwnProperty(EXEC_MIME_TYPE))) {\n    return\n  }\n  var id = output.metadata[EXEC_MIME_TYPE][\"id\"];\n  var toinsert = output_area.element.find(\".\" + CLASS_NAME.split(' ')[0]);\n  if (id !== undefined) {\n    var nchildren = toinsert.length;\n    var html_node = toinsert[nchildren-1].children[0];\n    html_node.innerHTML = output.data[HTML_MIME_TYPE];\n    var scripts = [];\n    var nodelist = html_node.querySelectorAll(\"script\");\n    for (var i in nodelist) {\n      if (nodelist.hasOwnProperty(i)) {\n        scripts.push(nodelist[i])\n      }\n    }\n\n    scripts.forEach( function (oldScript) {\n      var newScript = document.createElement(\"script\");\n      var attrs = [];\n      var nodemap = oldScript.attributes;\n      for (var j in nodemap) {\n        if (nodemap.hasOwnProperty(j)) {\n          attrs.push(nodemap[j])\n        }\n      }\n      attrs.forEach(function(attr) { newScript.setAttribute(attr.name, attr.value) });\n      newScript.appendChild(document.createTextNode(oldScript.innerHTML));\n      oldScript.parentNode.replaceChild(newScript, oldScript);\n    });\n    if (JS_MIME_TYPE in output.data) {\n      toinsert[nchildren-1].children[1].textContent = output.data[JS_MIME_TYPE];\n    }\n    output_area._hv_plot_id = id;\n    if ((window.Bokeh !== undefined) && (id in Bokeh.index)) {\n      window.PyViz.plot_index[id] = Bokeh.index[id];\n    } else {\n      window.PyViz.plot_index[id] = null;\n    }\n  } else if (output.metadata[EXEC_MIME_TYPE][\"server_id\"] !== undefined) {\n    var bk_div = document.createElement(\"div\");\n    bk_div.innerHTML = output.data[HTML_MIME_TYPE];\n    var script_attrs = bk_div.children[0].attributes;\n    for (var i = 0; i < script_attrs.length; i++) {\n      toinsert[toinsert.length - 1].childNodes[1].setAttribute(script_attrs[i].name, script_attrs[i].value);\n    }\n    // store reference to server id on output_area\n    output_area._bokeh_server_id = output.metadata[EXEC_MIME_TYPE][\"server_id\"];\n  }\n}\n\n/**\n * Handle when an output is cleared or removed\n */\nfunction handle_clear_output(event, handle) {\n  var id = handle.cell.output_area._hv_plot_id;\n  var server_id = handle.cell.output_area._bokeh_server_id;\n  if (((id === undefined) || !(id in PyViz.plot_index)) && (server_id !== undefined)) { return; }\n  var comm = window.PyViz.comm_manager.get_client_comm(\"hv-extension-comm\", \"hv-extension-comm\", function () {});\n  if (server_id !== null) {\n    comm.send({event_type: 'server_delete', 'id': server_id});\n    return;\n  } else if (comm !== null) {\n    comm.send({event_type: 'delete', 'id': id});\n  }\n  delete PyViz.plot_index[id];\n  if ((window.Bokeh !== undefined) & (id in window.Bokeh.index)) {\n    var doc = window.Bokeh.index[id].model.document\n    doc.clear();\n    const i = window.Bokeh.documents.indexOf(doc);\n    if (i > -1) {\n      window.Bokeh.documents.splice(i, 1);\n    }\n  }\n}\n\n/**\n * Handle kernel restart event\n */\nfunction handle_kernel_cleanup(event, handle) {\n  delete PyViz.comms[\"hv-extension-comm\"];\n  window.PyViz.plot_index = {}\n}\n\n/**\n * Handle update_display_data messages\n */\nfunction handle_update_output(event, handle) {\n  handle_clear_output(event, {cell: {output_area: handle.output_area}})\n  handle_add_output(event, handle)\n}\n\nfunction register_renderer(events, OutputArea) {\n  function append_mime(data, metadata, element) {\n    // create a DOM node to render to\n    var toinsert = this.create_output_subarea(\n    metadata,\n    CLASS_NAME,\n    EXEC_MIME_TYPE\n    );\n    this.keyboard_manager.register_events(toinsert);\n    // Render to node\n    var props = {data: data, metadata: metadata[EXEC_MIME_TYPE]};\n    render(props, toinsert[0]);\n    element.append(toinsert);\n    return toinsert\n  }\n\n  events.on('output_added.OutputArea', handle_add_output);\n  events.on('output_updated.OutputArea', handle_update_output);\n  events.on('clear_output.CodeCell', handle_clear_output);\n  events.on('delete.Cell', handle_clear_output);\n  events.on('kernel_ready.Kernel', handle_kernel_cleanup);\n\n  OutputArea.prototype.register_mime_type(EXEC_MIME_TYPE, append_mime, {\n    safe: true,\n    index: 0\n  });\n}\n\nif (window.Jupyter !== undefined) {\n  try {\n    var events = require('base/js/events');\n    var OutputArea = require('notebook/js/outputarea').OutputArea;\n    if (OutputArea.prototype.mime_types().indexOf(EXEC_MIME_TYPE) == -1) {\n      register_renderer(events, OutputArea);\n    }\n  } catch(err) {\n  }\n}\n",
      "application/vnd.holoviews_load.v0+json": ""
     },
     "metadata": {},
     "output_type": "display_data"
    },
    {
     "data": {
      "text/html": [
       "<style>*[data-root-id],\n",
       "*[data-root-id] > * {\n",
       "  box-sizing: border-box;\n",
       "  font-family: var(--jp-ui-font-family);\n",
       "  font-size: var(--jp-ui-font-size1);\n",
       "  color: var(--vscode-editor-foreground, var(--jp-ui-font-color1));\n",
       "}\n",
       "\n",
       "/* Override VSCode background color */\n",
       ".cell-output-ipywidget-background:has(\n",
       "    > .cell-output-ipywidget-background > .lm-Widget > *[data-root-id]\n",
       "  ),\n",
       ".cell-output-ipywidget-background:has(> .lm-Widget > *[data-root-id]) {\n",
       "  background-color: transparent !important;\n",
       "}\n",
       "</style>"
      ]
     },
     "metadata": {},
     "output_type": "display_data"
    },
    {
     "data": {
      "application/vnd.holoviews_exec.v0+json": "",
      "text/html": [
       "<div id='f12f9765-b0dc-421a-a4f8-f5d638674eae'>\n",
       "  <div id=\"a08a4634-1d3a-49dd-9cae-e29a5de5b47f\" data-root-id=\"f12f9765-b0dc-421a-a4f8-f5d638674eae\" style=\"display: contents;\"></div>\n",
       "</div>\n",
       "<script type=\"application/javascript\">(function(root) {\n",
       "  var docs_json = {\"36361b3a-3a72-4504-aa12-4afc7302b140\":{\"version\":\"3.3.3\",\"title\":\"Bokeh Application\",\"roots\":[{\"type\":\"object\",\"name\":\"panel.models.browser.BrowserInfo\",\"id\":\"f12f9765-b0dc-421a-a4f8-f5d638674eae\"},{\"type\":\"object\",\"name\":\"panel.models.comm_manager.CommManager\",\"id\":\"163a82ac-8e50-4d01-8248-025e32ae458b\",\"attributes\":{\"plot_id\":\"f12f9765-b0dc-421a-a4f8-f5d638674eae\",\"comm_id\":\"5a7b04652b1748dea1724d30db238ef4\",\"client_comm_id\":\"ccd935f0bca846be981db1e010f1adcb\"}}],\"defs\":[{\"type\":\"model\",\"name\":\"ReactiveHTML1\"},{\"type\":\"model\",\"name\":\"FlexBox1\",\"properties\":[{\"name\":\"align_content\",\"kind\":\"Any\",\"default\":\"flex-start\"},{\"name\":\"align_items\",\"kind\":\"Any\",\"default\":\"flex-start\"},{\"name\":\"flex_direction\",\"kind\":\"Any\",\"default\":\"row\"},{\"name\":\"flex_wrap\",\"kind\":\"Any\",\"default\":\"wrap\"},{\"name\":\"justify_content\",\"kind\":\"Any\",\"default\":\"flex-start\"}]},{\"type\":\"model\",\"name\":\"FloatPanel1\",\"properties\":[{\"name\":\"config\",\"kind\":\"Any\",\"default\":{\"type\":\"map\"}},{\"name\":\"contained\",\"kind\":\"Any\",\"default\":true},{\"name\":\"position\",\"kind\":\"Any\",\"default\":\"right-top\"},{\"name\":\"offsetx\",\"kind\":\"Any\",\"default\":null},{\"name\":\"offsety\",\"kind\":\"Any\",\"default\":null},{\"name\":\"theme\",\"kind\":\"Any\",\"default\":\"primary\"},{\"name\":\"status\",\"kind\":\"Any\",\"default\":\"normalized\"}]},{\"type\":\"model\",\"name\":\"GridStack1\",\"properties\":[{\"name\":\"mode\",\"kind\":\"Any\",\"default\":\"warn\"},{\"name\":\"ncols\",\"kind\":\"Any\",\"default\":null},{\"name\":\"nrows\",\"kind\":\"Any\",\"default\":null},{\"name\":\"allow_resize\",\"kind\":\"Any\",\"default\":true},{\"name\":\"allow_drag\",\"kind\":\"Any\",\"default\":true},{\"name\":\"state\",\"kind\":\"Any\",\"default\":[]}]},{\"type\":\"model\",\"name\":\"drag1\",\"properties\":[{\"name\":\"slider_width\",\"kind\":\"Any\",\"default\":5},{\"name\":\"slider_color\",\"kind\":\"Any\",\"default\":\"black\"},{\"name\":\"value\",\"kind\":\"Any\",\"default\":50}]},{\"type\":\"model\",\"name\":\"click1\",\"properties\":[{\"name\":\"terminal_output\",\"kind\":\"Any\",\"default\":\"\"},{\"name\":\"debug_name\",\"kind\":\"Any\",\"default\":\"\"},{\"name\":\"clears\",\"kind\":\"Any\",\"default\":0}]},{\"type\":\"model\",\"name\":\"copy_to_clipboard1\",\"properties\":[{\"name\":\"fill\",\"kind\":\"Any\",\"default\":\"none\"},{\"name\":\"value\",\"kind\":\"Any\",\"default\":null}]},{\"type\":\"model\",\"name\":\"FastWrapper1\",\"properties\":[{\"name\":\"object\",\"kind\":\"Any\",\"default\":null},{\"name\":\"style\",\"kind\":\"Any\",\"default\":null}]},{\"type\":\"model\",\"name\":\"NotificationAreaBase1\",\"properties\":[{\"name\":\"js_events\",\"kind\":\"Any\",\"default\":{\"type\":\"map\"}},{\"name\":\"position\",\"kind\":\"Any\",\"default\":\"bottom-right\"},{\"name\":\"_clear\",\"kind\":\"Any\",\"default\":0}]},{\"type\":\"model\",\"name\":\"NotificationArea1\",\"properties\":[{\"name\":\"js_events\",\"kind\":\"Any\",\"default\":{\"type\":\"map\"}},{\"name\":\"notifications\",\"kind\":\"Any\",\"default\":[]},{\"name\":\"position\",\"kind\":\"Any\",\"default\":\"bottom-right\"},{\"name\":\"_clear\",\"kind\":\"Any\",\"default\":0},{\"name\":\"types\",\"kind\":\"Any\",\"default\":[{\"type\":\"map\",\"entries\":[[\"type\",\"warning\"],[\"background\",\"#ffc107\"],[\"icon\",{\"type\":\"map\",\"entries\":[[\"className\",\"fas fa-exclamation-triangle\"],[\"tagName\",\"i\"],[\"color\",\"white\"]]}]]},{\"type\":\"map\",\"entries\":[[\"type\",\"info\"],[\"background\",\"#007bff\"],[\"icon\",{\"type\":\"map\",\"entries\":[[\"className\",\"fas fa-info-circle\"],[\"tagName\",\"i\"],[\"color\",\"white\"]]}]]}]}]},{\"type\":\"model\",\"name\":\"Notification\",\"properties\":[{\"name\":\"background\",\"kind\":\"Any\",\"default\":null},{\"name\":\"duration\",\"kind\":\"Any\",\"default\":3000},{\"name\":\"icon\",\"kind\":\"Any\",\"default\":null},{\"name\":\"message\",\"kind\":\"Any\",\"default\":\"\"},{\"name\":\"notification_type\",\"kind\":\"Any\",\"default\":null},{\"name\":\"_destroyed\",\"kind\":\"Any\",\"default\":false}]},{\"type\":\"model\",\"name\":\"TemplateActions1\",\"properties\":[{\"name\":\"open_modal\",\"kind\":\"Any\",\"default\":0},{\"name\":\"close_modal\",\"kind\":\"Any\",\"default\":0}]},{\"type\":\"model\",\"name\":\"BootstrapTemplateActions1\",\"properties\":[{\"name\":\"open_modal\",\"kind\":\"Any\",\"default\":0},{\"name\":\"close_modal\",\"kind\":\"Any\",\"default\":0}]},{\"type\":\"model\",\"name\":\"MaterialTemplateActions1\",\"properties\":[{\"name\":\"open_modal\",\"kind\":\"Any\",\"default\":0},{\"name\":\"close_modal\",\"kind\":\"Any\",\"default\":0}]}]}};\n",
       "  var render_items = [{\"docid\":\"36361b3a-3a72-4504-aa12-4afc7302b140\",\"roots\":{\"f12f9765-b0dc-421a-a4f8-f5d638674eae\":\"a08a4634-1d3a-49dd-9cae-e29a5de5b47f\"},\"root_ids\":[\"f12f9765-b0dc-421a-a4f8-f5d638674eae\"]}];\n",
       "  var docs = Object.values(docs_json)\n",
       "  if (!docs) {\n",
       "    return\n",
       "  }\n",
       "  const py_version = docs[0].version.replace('rc', '-rc.').replace('.dev', '-dev.')\n",
       "  function embed_document(root) {\n",
       "    var Bokeh = get_bokeh(root)\n",
       "    Bokeh.embed.embed_items_notebook(docs_json, render_items);\n",
       "    for (const render_item of render_items) {\n",
       "      for (const root_id of render_item.root_ids) {\n",
       "\tconst id_el = document.getElementById(root_id)\n",
       "\tif (id_el.children.length && (id_el.children[0].className === 'bk-root')) {\n",
       "\t  const root_el = id_el.children[0]\n",
       "\t  root_el.id = root_el.id + '-rendered'\n",
       "\t}\n",
       "      }\n",
       "    }\n",
       "  }\n",
       "  function get_bokeh(root) {\n",
       "    if (root.Bokeh === undefined) {\n",
       "      return null\n",
       "    } else if (root.Bokeh.version !== py_version) {\n",
       "      if (root.Bokeh.versions === undefined || !root.Bokeh.versions.has(py_version)) {\n",
       "\treturn null\n",
       "      }\n",
       "      return root.Bokeh.versions.get(py_version);\n",
       "    } else if (root.Bokeh.version === py_version) {\n",
       "      return root.Bokeh\n",
       "    }\n",
       "    return null\n",
       "  }\n",
       "  function is_loaded(root) {\n",
       "    var Bokeh = get_bokeh(root)\n",
       "    return (Bokeh != null && Bokeh.Panel !== undefined)\n",
       "  }\n",
       "  if (is_loaded(root)) {\n",
       "    embed_document(root);\n",
       "  } else {\n",
       "    var attempts = 0;\n",
       "    var timer = setInterval(function(root) {\n",
       "      if (is_loaded(root)) {\n",
       "        clearInterval(timer);\n",
       "        embed_document(root);\n",
       "      } else if (document.readyState == \"complete\") {\n",
       "        attempts++;\n",
       "        if (attempts > 200) {\n",
       "          clearInterval(timer);\n",
       "\t  var Bokeh = get_bokeh(root)\n",
       "\t  if (Bokeh == null || Bokeh.Panel == null) {\n",
       "            console.warn(\"Panel: ERROR: Unable to run Panel code because Bokeh or Panel library is missing\");\n",
       "\t  } else {\n",
       "\t    console.warn(\"Panel: WARNING: Attempting to render but not all required libraries could be resolved.\")\n",
       "\t    embed_document(root)\n",
       "\t  }\n",
       "        }\n",
       "      }\n",
       "    }, 25, root)\n",
       "  }\n",
       "})(window);</script>"
      ]
     },
     "metadata": {
      "application/vnd.holoviews_exec.v0+json": {
       "id": "f12f9765-b0dc-421a-a4f8-f5d638674eae"
      }
     },
     "output_type": "display_data"
    }
   ],
   "source": [
    "import gradio as gr\n",
    "\n",
    "import os\n",
    "import sys\n",
    "sys.path.append('../..')\n",
    "\n",
    "import panel as pn  # GUI\n",
    "pn.extension()\n",
    "\n",
    "from dotenv import load_dotenv, find_dotenv\n",
    "_ = load_dotenv(find_dotenv()) # read local .env file\n",
    "HUGGINGFACEHUB_API_TOKEN = os.environ['HUGGINGFACEHUB_API_TOKEN']\n",
    "import pandas as pd\n",
    "\n",
    "#langchain\n",
    "from langchain.text_splitter import RecursiveCharacterTextSplitter, CharacterTextSplitter\n",
    "from langchain.embeddings import HuggingFaceInferenceAPIEmbeddings\n",
    "from langchain_community.llms import HuggingFaceHub\n",
    "from langchain.embeddings import HuggingFaceEmbeddings\n",
    "from langchain.prompts import PromptTemplate\n",
    "from langchain.chains import RetrievalQA\n",
    "from langchain.prompts import ChatPromptTemplate\n",
    "from langchain.schema import StrOutputParser\n",
    "from langchain.schema.runnable import Runnable\n",
    "from langchain.schema.runnable.config import RunnableConfig\n",
    "from pydantic import BaseModel\n",
    "from langchain.chains import ConversationalRetrievalChain, LLMChain\n",
    "from langchain.vectorstores import Chroma\n",
    "from langchain.memory import ConversationBufferMemory\n",
    "from langchain.prompts.prompt import PromptTemplate\n",
    "from langchain.prompts.chat import ChatPromptTemplate, SystemMessagePromptTemplate\n",
    "from langchain.prompts import SystemMessagePromptTemplate, HumanMessagePromptTemplate, ChatPromptTemplate, MessagesPlaceholder\n",
    "from langchain_community.document_loaders import WebBaseLoader\n",
    "\n",
    "from datasets import load_dataset\n",
    "from pydantic.v1 import BaseModel, Field\n",
    "import shutil\n",
    "import numpy as np\n",
    "from typing import List\n",
    "\n",
    "from huggingface_hub import from_pretrained_keras\n",
    "\n",
    "import tensorflow as tf\n",
    "from tensorflow import keras\n",
    "import torch\n",
    "from PIL import Image"
   ]
  },
  {
   "cell_type": "code",
   "execution_count": 2,
   "id": "80f83198",
   "metadata": {},
   "outputs": [
    {
     "data": {
      "application/vnd.jupyter.widget-view+json": {
       "model_id": "ed5e74ab8976478a9564a5cfe20596ab",
       "version_major": 2,
       "version_minor": 0
      },
      "text/plain": [
       "Fetching 8 files:   0%|          | 0/8 [00:00<?, ?it/s]"
      ]
     },
     "metadata": {},
     "output_type": "display_data"
    }
   ],
   "source": [
    "# Cell 1: Image Classification Model\n",
    "model1 = from_pretrained_keras(\"ALVHB95/finalsupermodelofthedestiny\")"
   ]
  },
  {
   "cell_type": "code",
   "execution_count": 3,
   "id": "fd47261a",
   "metadata": {},
   "outputs": [
    {
     "name": "stdout",
     "output_type": "stream",
     "text": [
      "1/1 [==============================] - 8s 8s/step\n",
      "Input Image Path: C:\\Users\\alvar\\OneDrive - CEPS\\Documents\\aplications\\FCE.jpg\n",
      "Prediction: {'compost': 0.566018}\n"
     ]
    }
   ],
   "source": [
    "# Define class labels\n",
    "class_labels = ['cardboard', 'compost', 'glass', 'metal', 'paper', 'plastic', 'trash']\n",
    "\n",
    "# Function to predict image label and score\n",
    "def predict_image(input):\n",
    "    # Resize the image to the size expected by the model and convert to numpy array\n",
    "    image_array = tf.keras.preprocessing.image.img_to_array(input.resize((244, 224)))  # Cambiar el orden de las dimensiones\n",
    "    # Normalize the image\n",
    "    image_array = tf.keras.applications.efficientnet.preprocess_input(image_array)\n",
    "    # Expand the dimensions to create a batch\n",
    "    image_array = tf.expand_dims(image_array, 0)\n",
    "    # Predict using the model\n",
    "    predictions = model1.predict(image_array)\n",
    "    category_scores = {}\n",
    "    for i, class_label in enumerate(class_labels):\n",
    "        category_scores[class_label] = predictions[0][i].item()\n",
    "    \n",
    "    return category_scores"
   ]
  },
  {
   "cell_type": "code",
   "execution_count": 4,
   "id": "6cbe2fcf",
   "metadata": {},
   "outputs": [
    {
     "name": "stderr",
     "output_type": "stream",
     "text": [
      "C:\\Users\\alvar\\AppData\\Local\\Temp\\ipykernel_25884\\2400317979.py:3: GradioUnusedKwargWarning: You have unused kwarg parameters in Image, please remove them: {'sources': ['upload', 'webcam']}\n",
      "  inputs=gr.Image(label=\"Select hot dog candidate\", sources=['upload', 'webcam'], type=\"pil\"),\n"
     ]
    }
   ],
   "source": [
    "image_gradio_app = gr.Interface(\n",
    "    fn=predict_image,\n",
    "    inputs=gr.Image(label=\"Image\", sources=['upload', 'webcam'], type=\"pil\"),\n",
    "    outputs=[gr.Label(label=\"Result\")],\n",
    "    title=custom_title,\n",
    "    theme=theme\n",
    ")"
   ]
  },
  {
   "cell_type": "code",
   "execution_count": 4,
   "id": "516e0cd3",
   "metadata": {},
   "outputs": [],
   "source": [
    "# Cell 2: Chatbot Model\n",
    "loader = WebBaseLoader([\"https://www.epa.gov/recycle/frequent-questions-recycling\", \"https://www.whitehorsedc.gov.uk/vale-of-white-horse-district-council/recycling-rubbish-and-waste/lets-get-real-about-recycling/\", \"https://www.teimas.com/blog/13-preguntas-y-respuestas-sobre-la-ley-de-residuos-07-2022\", \"https://www.molok.com/es/blog/gestion-de-residuos-solidos-urbanos-rsu-10-dudas-comunes\", \"https://espanol.epa.gov/espanol/el-reciclaje#valelapena\",\"https://espanol.epa.gov/espanol/preguntas-frecuentes-sobre-reciclado-de-plastico-y-elaboracion-de-abono-vegetal\",\"https://espanol.epa.gov/espanol/consejo-del-dia-como-reciclo-mis\",\"https://espanol.epa.gov/espanol/recursos-para-reciclar-dispositivos-electronicos\",\"https://www.epa.gov/recycle/electronics-donation-and-recycling\",\"https://reducereutilizarecicla.org/que-es-el-reciclaje/\",\"https://reducereutilizarecicla.org/contenedores-de-reciclaje/\", \"https://reducereutilizarecicla.org/contenedores-de-reciclaje/contenedor-amarillo/\",\"https://reducereutilizarecicla.org/contenedores-de-reciclaje/contenedor-azul/\",\"https://reducereutilizarecicla.org/contenedores-de-reciclaje/contenedor-verde/\",\"https://reducereutilizarecicla.org/contenedores-de-reciclaje/contenedor-marron-organico/\",\"https://reducereutilizarecicla.org/contenedores-de-reciclaje/contenedor-gris-restos/\",\"https://reducereutilizarecicla.org/contenedores-de-reciclaje/punto-limpio/\", \"https://reducereutilizarecicla.org/donde-tirar-auriculares/\",\"https://reducereutilizarecicla.org/donde-tirar-sartenes/\",\"https://reducereutilizarecicla.org/donde-tirar-aceite-usado/\",\"https://reducereutilizarecicla.org/como-se-reciclan-los-envases-tipo-brik/\",\"https://reducereutilizarecicla.org/los-envases-del-verano/\", \"https://reducereutilizarecicla.org/donde-tirar-radiografias/\",\"https://reducereutilizarecicla.org/envases-ecologicos/\",\"https://reducereutilizarecicla.org/donde-tirar-los-restos-de-pintura/\",\"https://reducereutilizarecicla.org/valorizacion-de-residuos/\",\"https://reducereutilizarecicla.org/como-reciclar-pilas/\",\"https://reducereutilizarecicla.org/como-reciclar-capsulas-de-cafe/\",\"https://reducereutilizarecicla.org/reciclando-cd/\", \"https://reducereutilizarecicla.org/donde-tirar-neumaticos/\",\"https://reducereutilizarecicla.org/como-reciclar-una-canasta-de-mimbre/\",\"https://reducereutilizarecicla.org/como-funciona-el-contenedor-amarillo/\", \"https://reducereutilizarecicla.org/donde-se-tiran-los-vapers/\",\"https://reducereutilizarecicla.org/cuanto-tarda-una-bolsa-biodegradable-en-degradarse/\", \"https://reducereutilizarecicla.org/donde-se-reciclan-los-juguetes/\",\"https://reducereutilizarecicla.org/objetos-que-se-pueden-reutilizar/\",\"https://reducereutilizarecicla.org/la-parafina-se-puede-reutilizar/\",\"https://reducereutilizarecicla.org/planta-de-reciclaje-de-papel/\", \"https://reducereutilizarecicla.org/como-saber-si-un-envase-es-reciclable/\", \"https://reducereutilizarecicla.org/reutilizar-vasos-de-vela/\", \"https://reducereutilizarecicla.org/bolsas-frio-calor/\", \"https://reducereutilizarecicla.org/reciclar-y-reutilizar-materiales-de-construccion/\", \"https://reducereutilizarecicla.org/que-es-exactamente-el-pet/\", \"https://reducereutilizarecicla.org/tipos-de-reciclaje/\", \"https://reducereutilizarecicla.org/que-hacer-con-palets-reciclados/\", \"https://reducereutilizarecicla.org/vertederos-controlados/\", \"https://reducereutilizarecicla.org/donde-tirar-escombros/\",\"https://reducereutilizarecicla.org/como-reciclar-los-residuos-de-ps-poliestireno/\",\"https://reducereutilizarecicla.org/tirar-la-basura-sin-bolsas/\",\"https://reducereutilizarecicla.org/tirar-el-palo-de-la-fregona/\",\"https://reducereutilizarecicla.org/la-mejor-manera-de-reciclar-una-pala-de-padel/\", \"https://reducereutilizarecicla.org/sabes-donde-tirar-las-llantas-viejas-de-un-coche/\",\"https://reducereutilizarecicla.org/sabes-donde-tirar-el-arbol-de-navidad/\",\"https://reducereutilizarecicla.org/clavos-tornillos-herramientas-donde-tirar-hierro/\",\"https://reducereutilizarecicla.org/donde-tirar-un-secador-de-pelo-contenedor-o-punto-limpio/\",\"https://reducereutilizarecicla.org/donde-tirar-electrodomesticos/\",\"https://reducereutilizarecicla.org/donde-puedo-tirar-ramas-de-arboles/\", \"https://reducereutilizarecicla.org/donde-tirar-escombros/\",\"https://reducereutilizarecicla.org/donde-se-tira-el-muerdago-quemado/\",\"https://reducereutilizarecicla.org/sandalias-caucho-reciclado-neumaticos/\",\"https://reducereutilizarecicla.org/ideas-para-reciclar-aspas-de-ventilador-de-techo/\",\"https://reducereutilizarecicla.org/reciclar-sacos-dormir/\",\"https://reducereutilizarecicla.org/reciclar-sillas-playa/\",\"https://reducereutilizarecicla.org/donde-tirar-antipolillas/\",\"https://reducereutilizarecicla.org/que-hacer-con-los-juguetes-viejos/\",\"https://reducereutilizarecicla.org/como-utilizar-las-mascarillas-y-el-gel-hidroalcoholico-en-la-playa/\",\"https://reducereutilizarecicla.org/ideas-para-reciclar-un-ventilador-de-pie/\",\"https://reducereutilizarecicla.org/donde-tirar-gasoil/\",\"https://reducereutilizarecicla.org/donde-puedo-tirar-basura-electronica/\",\"https://reducereutilizarecicla.org/donde-tirar-agujas/\", \"https://reducereutilizarecicla.org/donde-tirar-residuos-peligrosos/\", \"https://reducereutilizarecicla.org/donde-tirar-los-cables/\", \"https://reducereutilizarecicla.org/donde-tirar-bicicletas/\", \"https://reducereutilizarecicla.org/donde-tirar-maletas/\", \"https://reducereutilizarecicla.org/como-reciclar-una-pantalla/\", \"https://reducereutilizarecicla.org/metales-reciclables/\",\"https://reducereutilizarecicla.org/donde-tirar-caja-de-helado/\", \"https://reducereutilizarecicla.org/como-reciclar-perchas-de-plastico/\",\"https://reducereutilizarecicla.org/donde-tirar-un-jarron-de-ceramica/\",\"https://reducereutilizarecicla.org/donde-tirar-sanitarios/\", \"https://reducereutilizarecicla.org/reciclar-bombonas-de-camping-gas/\", \"https://reducereutilizarecicla.org/donde-tirar-aceite-usado-de-motor/\", \"https://reducereutilizarecicla.org/como-reciclar-rotuladores-subrayadores-y-boligrafos/\", \"https://reducereutilizarecicla.org/donde-tirar-un-ordenador/\", \"https://reducereutilizarecicla.org/donde-tirar-un-termometro-de-mercurio/\", \"https://reducereutilizarecicla.org/tirar-nevera-vieja/\",\"https://reducereutilizarecicla.org/que-cosas-pueden-ser-recicladas/\",\"https://reducereutilizarecicla.org/donde-tirar-los-pintaunas/\",\"https://reducereutilizarecicla.org/donde-tirar-bombona-de-helio/\", \"https://reducereutilizarecicla.org/donde-tirar-alfombras/\", \"https://reducereutilizarecicla.org/donde-tirar-impresoras-y-sus-cartuchos-o-toner/\", \"https://reducereutilizarecicla.org/donde-tirar-aguarras/\",\"https://reducereutilizarecicla.org/donde-tirar-discos-duros/\",\"https://reducereutilizarecicla.org/donde-tirar-azulejos/\",\"https://reducereutilizarecicla.org/donde-tirar-diapositivas/\",\"https://reducereutilizarecicla.org/donde-tirar-jeringuillas-usadas/\",\"https://reducereutilizarecicla.org/donde-tirar-cintas-vhs/\",\"https://reducereutilizarecicla.org/donde-tirar-gomaespuma/\", \"https://reducereutilizarecicla.org/donde-tirar-los-botes-de-pintura/\", \"https://reducereutilizarecicla.org/donde-se-recicla-la-madera/\", \"https://reducereutilizarecicla.org/donde-tirar-discos-de-vinilo/\", \"https://reducereutilizarecicla.org/donde-tirar-imanes/\", \"https://reducereutilizarecicla.org/donde-tirar-fluorescentes/\", \"https://reducereutilizarecicla.org/donde-tirar-un-microondas/\", \"https://reducereutilizarecicla.org/reciclar-toallas/\", \"https://reducereutilizarecicla.org/reciclar-vaqueros/\",\"https://reducereutilizarecicla.org/como-se-recicla-la-tela/\", \"https://reducereutilizarecicla.org/contenedor-rojo-ropa/\", \"https://reducereutilizarecicla.org/reciclar-chanclas/\",\"https://reducereutilizarecicla.org/reciclar-banadores/\",\"https://reducereutilizarecicla.org/asi-funciona-el-reciclaje-de-cremalleras/\",\"https://reducereutilizarecicla.org/donde-tirar-zapatos/\",\"https://reducereutilizarecicla.org/como-reciclar-una-camisa/\",\"https://reducereutilizarecicla.org/donde-tirar-un-mantel-de-tela-sucio/\",\"https://reducereutilizarecicla.org/contenedores-de-ropa/\",\"https://reducereutilizarecicla.org/que-cosas-pueden-ser-recicladas/\",\"https://reducereutilizarecicla.org/los-textiles-se-vuelven-ecologicos/\",\"https://reducereutilizarecicla.org/donde-tirar-ropa-vieja/\",\"https://espanol.epa.gov/espanol/terminos-0-9\",\"https://espanol.epa.gov/espanol/terminos\",\"https://espanol.epa.gov/espanol/terminos-b\",\"https://espanol.epa.gov/espanol/terminos-c\",\"https://espanol.epa.gov/espanol/terminos-d\",\"https://espanol.epa.gov/espanol/terminos-e\",\"https://espanol.epa.gov/espanol/terminos-f\",\"https://espanol.epa.gov/espanol/terminos-g\",\"https://espanol.epa.gov/espanol/terminos-h\",\"https://espanol.epa.gov/espanol/terminos-i\",\"https://espanol.epa.gov/espanol/terminos-j\",\"https://espanol.epa.gov/espanol/terminos-l\",\"https://espanol.epa.gov/espanol/terminos-m\",\"https://espanol.epa.gov/espanol/terminos-n\",\"https://espanol.epa.gov/espanol/terminos-o\",\"https://espanol.epa.gov/espanol/terminos-p\",\"https://espanol.epa.gov/espanol/terminos-q\",\"https://espanol.epa.gov/espanol/terminos-r\",\"https://espanol.epa.gov/espanol/terminos-s\",\"https://espanol.epa.gov/espanol/terminos-t\",\"https://espanol.epa.gov/espanol/terminos-u\",\"https://espanol.epa.gov/espanol/terminos-v\",\"https://espanol.epa.gov/espanol/terminos-w-x-y-z#W\", \"https://espanol.epa.gov/espanol/la-importancia-de-la-educacion-ambiental\",\"https://espanol.epa.gov/espanol/consejo-del-dia-que-puede-hacer-para-reciclar-por-estacion\",\"https://espanol.epa.gov/espanol/lo-que-puede-hacer-usted-acerca-de-la-contaminacion-por-basura-0\",\"https://espanol.epa.gov/espanol/diez-maneras-de-eliminar-el-embalaje-y-las-envolturas-de-su-vida\",\"https://blog.cerdanyaecoresort.com/sostenibilidad-ambiental-que-es-y-como-mejorarla-en-casa/\",\"https://www.imh.eus/es/imh/comunicacion/docu-libre/reduccion-residuos\",\"https://archivo-es.greenpeace.org/espana/Global/espana/report/contaminacion/Guia%20Transform-accion%20residuos.pdf\",\"https://elpais.com/escaparate/2023-01-10/11-productos-sostenibles-de-uso-cotidiano-para-reducir-el-consumo-de-plastico-y-generar-menos-residuos.html\", \"https://elpais.com/escaparate/2023-01-10/11-productos-sostenibles-de-uso-cotidiano-para-reducir-el-consumo-de-plastico-y-generar-menos-residuos.html#\", \"https://www.iberdrola.com/sostenibilidad/productos-ecologicos\", \"https://www.retema.es/agenda\", \"https://www.iberdrola.com/sostenibilidad/reciclaje-para-ninos\",\"https://www.miteco.gob.es/es/ceneam/recursos/pag-web/programas-planes/voluntariado-ong-internacionales.html\", \"https://www.iberdrola.com/compromiso-social/voluntariado-corporativo\", \"https://reducereutilizarecicla.org/reciclos-ecoembes/\",\"https://reducereutilizarecicla.org/goma-eva-es-reciclable/\", \"https://reducereutilizarecicla.org/se-puede-generar-energia-en-los-vertederos/\", \"https://reducereutilizarecicla.org/tirar-la-basura-sin-bolsas/\",\"https://reducereutilizarecicla.org/por-que-es-importante-saber-como-reutilizar-camisetas/\",\"https://reducereutilizarecicla.org/reutilizar-pantalones/\",\"https://reducereutilizarecicla.org/poliester-reciclado/\",\"https://reducereutilizarecicla.org/ropa-con-materiales-reciclados/\", \"https://reducereutilizarecicla.org/contenedores-caseros-para-reciclar/\",\"https://www.miteco.gob.es/es/calidad-y-evaluacion-ambiental/temas/prevencion-y-gestion-residuos/flujos/domesticos/gestion/sistema-recogida/puntos-limpios.html\",\"https://punto-limpio.info/\",\"https://reducereutilizarecicla.org/ecopuntos-que-son-y-donde-estan/\"])\n",
    "\n",
    "data=loader.load()\n",
    "# split documents\n",
    "text_splitter = RecursiveCharacterTextSplitter(chunk_size=1500, chunk_overlap=200,add_start_index=True)\n",
    "splits = text_splitter.split_documents(data)"
   ]
  },
  {
   "cell_type": "code",
   "execution_count": 5,
   "id": "cbe10ce0",
   "metadata": {},
   "outputs": [],
   "source": [
    "import hashlib\n",
    "import json\n",
    "from langchain_core.documents import Document\n",
    "import uuid\n",
    "\n",
    "def stable_hash(doc: Document) -> str:\n",
    "    \"\"\"\n",
    "    Stable hash document based on its metadata.\n",
    "    \"\"\"\n",
    "    # Construct a unique string based on document attributes\n",
    "    unique_string = f\"{doc.metadata.get('title', '')}_{doc.metadata.get('author', '')}_{str(uuid.uuid4())}\"\n",
    "    \n",
    "    return hashlib.sha1(unique_string.encode()).hexdigest()\n",
    "    \n",
    "    return hashlib.sha1(json.dumps(modified_metadata, sort_keys=True).encode()).hexdigest()\n",
    "\n",
    "\n",
    "split_ids = list(map(stable_hash, splits))"
   ]
  },
  {
   "cell_type": "code",
   "execution_count": 6,
   "id": "201473d4",
   "metadata": {},
   "outputs": [],
   "source": [
    "# define embedding\n",
    "embeddings = HuggingFaceEmbeddings(model_name='sentence-transformers/all-MiniLM-l6-v2')"
   ]
  },
  {
   "cell_type": "code",
   "execution_count": 7,
   "id": "a9b28141",
   "metadata": {},
   "outputs": [],
   "source": [
    "# create vector database from data\n",
    "persist_directory = 'docs/chroma/'\n",
    "\n",
    "# Remove old database files if any\n",
    "shutil.rmtree(persist_directory, ignore_errors=True)\n",
    "vectordb = Chroma.from_documents(\n",
    "    documents=splits,\n",
    "    embedding=embeddings,\n",
    "    ids=split_ids,\n",
    "    persist_directory=persist_directory\n",
    ")"
   ]
  },
  {
   "cell_type": "code",
   "execution_count": 8,
   "id": "efb94818",
   "metadata": {},
   "outputs": [],
   "source": [
    "# define retriever\n",
    "retriever = vectordb.as_retriever(search_kwargs={\"k\": 2}, search_type=\"mmr\")"
   ]
  },
  {
   "cell_type": "code",
   "execution_count": 9,
   "metadata": {},
   "outputs": [],
   "source": [
    "from langchain.output_parsers import PydanticOutputParser\n",
    "\n",
    "class FinalAnswer(BaseModel):\n",
    "    question: str = Field(description=\"the original question\")\n",
    "    answer: str = Field(description=\"the extracted answer\")\n",
    "\n",
    "# Assuming you have a parser for the FinalAnswer class\n",
    "parser = PydanticOutputParser(pydantic_object=FinalAnswer)"
   ]
  },
  {
   "cell_type": "code",
   "execution_count": 10,
   "id": "ffad0f9c",
   "metadata": {},
   "outputs": [],
   "source": [
    "template = \"\"\"\n",
    "Your name is AngryGreta and you are a recycling chatbot with the objective to anwer questions from user in English or Spanish /\n",
    "Use the following pieces of context to answer the question /\n",
    "If the question is English answer in English /\n",
    "If the question is Spanish answer in Spanish /\n",
    "Do not mention the word context when you answer a question, use the word database instead /\n",
    "Answer the question fully and provide as much relevant detail as possible. Do not cut your response short\n",
    "Context: {context}\n",
    "User: {question}\n",
    "{format_instructions}\n",
    "\"\"\"\n",
    "\n",
    "# Create the chat prompt templates\n",
    "sys_prompt = SystemMessagePromptTemplate.from_template(template)\n",
    "qa_prompt = ChatPromptTemplate(\n",
    "    messages=[\n",
    "        sys_prompt,\n",
    "        HumanMessagePromptTemplate.from_template(\"{question}\")],\n",
    "    partial_variables={\"format_instructions\": parser.get_format_instructions()}\n",
    "   \n",
    ")\n",
    "llm = HuggingFaceHub(\n",
    "    repo_id=\"mistralai/Mixtral-8x7B-Instruct-v0.1\",\n",
    "    task=\"text-generation\",\n",
    "    model_kwargs={\n",
    "        \"max_new_tokens\": 2000,\n",
    "        \"top_k\": 50,\n",
    "        \"temperature\": 0.1,\n",
    "        \"repetition_penalty\": 1.3,\n",
    "        \"early_stopping\":\"never\"\n",
    "    },\n",
    ")"
   ]
  },
  {
   "cell_type": "code",
   "execution_count": 11,
   "id": "2b0afc9e",
   "metadata": {},
   "outputs": [],
   "source": [
    "qa_chain = ConversationalRetrievalChain.from_llm(\n",
    "    llm = llm,\n",
    "    memory = ConversationBufferMemory(llm=llm, memory_key=\"chat_history\", input_key='question', output_key='output'),\n",
    "    retriever = retriever,\n",
    "    verbose = True,\n",
    "    combine_docs_chain_kwargs={'prompt': qa_prompt},\n",
    "    get_chat_history = lambda h : h,\n",
    "    rephrase_question = False,\n",
    "    output_key = 'output',\n",
    ")"
   ]
  },
  {
   "cell_type": "code",
   "execution_count": 12,
   "id": "47355056",
   "metadata": {},
   "outputs": [],
   "source": [
    "def chat_interface(question):\n",
    "    result = qa_chain.invoke({'question': question})\n",
    "    output_string = result['output']\n",
    "\n",
    "    # Find the index of the last occurrence of \"answer\": in the string\n",
    "    answer_index = output_string.rfind('\"answer\":')\n",
    "\n",
    "    # Extract the substring starting from the \"answer\": index\n",
    "    answer_part = output_string[answer_index + len('\"answer\":'):].strip()\n",
    "\n",
    "    # Find the next occurrence of a double quote to get the start of the answer value\n",
    "    quote_index = answer_part.find('\"')\n",
    "\n",
    "    # Extract the answer value between double quotes\n",
    "    answer_value = answer_part[quote_index + 1:answer_part.find('\"', quote_index + 1)]\n",
    "    \n",
    "    return answer_value"
   ]
  },
  {
   "cell_type": "code",
   "execution_count": 13,
   "id": "999ecc8a",
   "metadata": {},
   "outputs": [],
   "source": [
    "\n",
    "\n",
    "def format_data(docs: List[Document]) -> str:\n",
    "    return \"\\n\\n\".join(\n",
    "        f\"Content: {doc.page_content}\\nSource: {doc.metadata['source']}\" for dat in data\n",
    "    )"
   ]
  },
  {
   "cell_type": "code",
   "execution_count": 14,
   "id": "fc62aa19",
   "metadata": {},
   "outputs": [
    {
     "data": {
      "text/plain": [
       "(array([], dtype=int64),)"
      ]
     },
     "execution_count": 14,
     "metadata": {},
     "output_type": "execute_result"
    }
   ],
   "source": [
    "import pandas as pd\n",
    "\n",
    "response = vectordb.get(include=[\"metadatas\", \"documents\", \"embeddings\"])\n",
    "df = pd.DataFrame(\n",
    "    {\n",
    "        \"id\": response[\"ids\"],\n",
    "        \"source\": [metadata.get(\"source\") for metadata in response[\"metadatas\"]],\n",
    "        \"page\": [metadata.get(\"page\", -1) for metadata in response[\"metadatas\"]],\n",
    "        \"document\": response[\"documents\"],\n",
    "        \"embedding\": response[\"embeddings\"],\n",
    "    }\n",
    ")\n",
    "df[\"contains_answer\"] = df[\"document\"].apply(lambda x: \"Eichler\" in x)\n",
    "df[\"contains_answer\"].to_numpy().nonzero()"
   ]
  },
  {
   "cell_type": "code",
   "execution_count": 15,
   "id": "e930cc64",
   "metadata": {},
   "outputs": [
    {
     "name": "stdout",
     "output_type": "stream",
     "text": [
      "\n",
      "\n",
      "\u001b[1m> Entering new StuffDocumentsChain chain...\u001b[0m\n",
      "\n",
      "\n",
      "\u001b[1m> Entering new LLMChain chain...\u001b[0m\n",
      "Prompt after formatting:\n",
      "\u001b[32;1m\u001b[1;3mSystem: \n",
      "Your name is AngryGreta and you are a recycling chatbot with the objective to anwer questions from user in English or Spanish /\n",
      "Use the following pieces of context to answer the question /\n",
      "If the question is English answer in English /\n",
      "If the question is Spanish answer in Spanish /\n",
      "Do not mention the word context when you answer a question, use the word database instead /\n",
      "Answer the question fully and provide as much relevant detail as possible. Do not cut your response short\n",
      "Context: se trata de un objeto que funciona gracias a pilas, batería o enchufado a corriente eléctrica, será un AEE. También entran en este grupo los aparatos necesarios para generar, transmitir y medir tales corrientes y campos.Si, además, provienen de hogares o comercios, industrias, instituciones que, por su naturaleza y cantidad, son similares a los procedentes de hogares, se considerarán residuos domésticos.Por ejemplo, son aparatos de este tipo las neveras, lavadoras, televisores, consolas, taladros eléctricos, teléfonos móviles, tablets u ordenadores. Se trata de objetos muy utilizados y, del mismo modo, frecuentemente desechados. Cuando dejan de funcionar, se convierten en RAEE (residuos de aparatos eléctricos o electrónicos).Para identificar estos elementos y separarlos del resto de residuos existen símbolos del reciclaje que siempre deben aparecer en la basura electrónica.Qué es el reciclaje tecnológicoEl reciclaje tecnológico tiene como principal objetivo aprovechar al máximo los desechos provenientes de aparatos electrónicos que han llegado al final de su vida útil. La sociedad ha evolucionado hasta incluir la tecnología en muchos procesos. ¿Quién no tiene un smartphone, una tablet o una televisión inteligente en casa? Cuando dejan de funcionar, es imprescindible darles un nuevo uso para evitar repercusiones sobre el medio ambiente.Reciclar aparatos tecnológicos sigue un proceso que empieza con su recogida, posterior clasificación y diferenciación según los materiales que\n",
      "\n",
      "las cápsulas usadas. Actualmente, ya hay miles de puntos de recogida distribuidos por toda España, en este buscador podrás encontrar el que tengas más cerca.Otra opción es vaciar el café de dentro y usar las cápsulas para hacer manualidades. ¡Hay un montón de ideas originales esperándote!¿Cuáles son las fases del proceso de reciclado? Como en todas las etapas de reciclaje de cualquier tipo de envase o material se han de llevar a cabo una serie de acciones para que el proceso se lleve a buen término.Selección y transporte: A la hora de reciclar el primer paso es recoger los residuos de las cápsulas y llevarlas a los centros de reciclado responsables de ello.Reciclaje: Una vez han llegado los residuos a las plantas de reciclaje, lo primero que hay que realizar es la separación de los restos de café de las cápsulas.Después se separan los materiales para su reciclaje. Por un lado, el aluminio, que se funde para darle una segunda vía, ya que los envases derivados de este tipo de material son 100% reciclables.Algo parecido se produce en el plástico, los objetos recolectados se trituran y producen granza, un conjunto de piezas minúsculas de plástico que posteriormente se utilizan para crear todo tipo de objetos.Una segunda vida útil: Como ya se ha comentado, el metal vuelve a utilizarse para hacer cápsulas u objetos tan cotidianos como bolígrafos o relojes. En el caso del plástico se puede reciclar en nuevos envases u objetos como bancos o parques infantiles. Por último, los posos\n",
      "User: ¿Cómo se reciclan las baterías de los aparatos eléctricos?\n",
      "The output should be formatted as a JSON instance that conforms to the JSON schema below.\n",
      "\n",
      "As an example, for the schema {\"properties\": {\"foo\": {\"title\": \"Foo\", \"description\": \"a list of strings\", \"type\": \"array\", \"items\": {\"type\": \"string\"}}}, \"required\": [\"foo\"]}\n",
      "the object {\"foo\": [\"bar\", \"baz\"]} is a well-formatted instance of the schema. The object {\"properties\": {\"foo\": [\"bar\", \"baz\"]}} is not well-formatted.\n",
      "\n",
      "Here is the output schema:\n",
      "```\n",
      "{\"properties\": {\"question\": {\"title\": \"Question\", \"description\": \"the original question\", \"type\": \"string\"}, \"answer\": {\"title\": \"Answer\", \"description\": \"the extracted answer\", \"type\": \"string\"}}, \"required\": [\"question\", \"answer\"]}\n",
      "```\n",
      "\n",
      "Human: ¿Cómo se reciclan las baterías de los aparatos eléctricos?\u001b[0m\n",
      "\n",
      "\u001b[1m> Finished chain.\u001b[0m\n",
      "\n",
      "\u001b[1m> Finished chain.\u001b[0m\n"
     ]
    }
   ],
   "source": [
    "question='¿Cómo se reciclan las baterías de los aparatos eléctricos?'\n",
    "answer=chat_interface(question)"
   ]
  },
  {
   "cell_type": "code",
   "execution_count": 16,
   "id": "8ddecc35",
   "metadata": {},
   "outputs": [],
   "source": [
    "question_row = pd.DataFrame(\n",
    "    {\n",
    "        \"id\": \"question\",\n",
    "        \"question\": question,\n",
    "        \"embedding\": [embeddings.embed_query(question)],\n",
    "    }\n",
    ")\n",
    "answer_row = pd.DataFrame(\n",
    "    {\n",
    "        \"id\": \"answer\",\n",
    "        \"answer\": answer,\n",
    "        \"embedding\": [embeddings.embed_query(answer)],\n",
    "    }\n",
    ")\n",
    "df = pd.concat([question_row, answer_row, df])"
   ]
  },
  {
   "cell_type": "code",
   "execution_count": 18,
   "id": "df3a04a3",
   "metadata": {},
   "outputs": [],
   "source": [
    "question_embedding = [embeddings.embed_query(question)]\n",
    "df[\"dist\"] = df.apply(\n",
    "    lambda row: np.linalg.norm(\n",
    "        np.array(row[\"embedding\"]) - question_embedding\n",
    "    ),\n",
    "    axis=1,\n",
    ")"
   ]
  },
  {
   "cell_type": "code",
   "execution_count": 20,
   "id": "d6cc4291",
   "metadata": {},
   "outputs": [
    {
     "data": {
      "application/vnd.jupyter.widget-view+json": {
       "model_id": "ffb614ca5dff4e50ab5cc0194b2bd238",
       "version_major": 2,
       "version_minor": 0
      },
      "text/plain": [
       "VBox(children=(Label(value='Spotlight running on http://127.0.0.1:57973/'), HBox(children=(Button(description=…"
      ]
     },
     "metadata": {},
     "output_type": "display_data"
    }
   ],
   "source": [
    "from renumics import spotlight\n",
    "\n",
    "spotlight.show(df)"
   ]
  },
  {
   "cell_type": "code",
   "execution_count": 24,
   "id": "4a101c6c",
   "metadata": {},
   "outputs": [],
   "source": [
    "chatbot_gradio_app = gr.ChatInterface(\n",
    "    fn=chat_interface,\n",
    "    title=custom_title\n",
    ")"
   ]
  },
  {
   "cell_type": "code",
   "execution_count": null,
   "id": "360242aa",
   "metadata": {},
   "outputs": [],
   "source": [
    "# Combine both interfaces into a single app\n",
    "gr.TabbedInterface(\n",
    "    [image_gradio_app, chatbot_gradio_app],\n",
    "    tab_names=[\"image\",\"chatbot\"]\n",
    ").launch(share=True, server_port=8887)"
   ]
  }
 ],
 "metadata": {
  "kernelspec": {
   "display_name": "Python 3 (ipykernel)",
   "language": "python",
   "name": "python3"
  },
  "language_info": {
   "codemirror_mode": {
    "name": "ipython",
    "version": 3
   },
   "file_extension": ".py",
   "mimetype": "text/x-python",
   "name": "python",
   "nbconvert_exporter": "python",
   "pygments_lexer": "ipython3",
   "version": "3.10.11"
  }
 },
 "nbformat": 4,
 "nbformat_minor": 5
}
